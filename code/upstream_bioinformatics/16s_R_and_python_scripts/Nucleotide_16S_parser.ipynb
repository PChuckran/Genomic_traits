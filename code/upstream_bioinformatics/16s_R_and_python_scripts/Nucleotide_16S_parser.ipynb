{
 "cells": [
  {
   "cell_type": "code",
   "execution_count": 1,
   "metadata": {},
   "outputs": [],
   "source": [
    "import pandas as pd\n",
    "import re\n",
    "import glob"
   ]
  },
  {
   "cell_type": "code",
   "execution_count": 3,
   "metadata": {},
   "outputs": [],
   "source": [
    "input_file_for_func = \"TALL_001-M-37-38-20161027.fna\""
   ]
  },
  {
   "cell_type": "code",
   "execution_count": 40,
   "metadata": {},
   "outputs": [],
   "source": []
  },
  {
   "cell_type": "code",
   "execution_count": 2,
   "metadata": {},
   "outputs": [],
   "source": [
    "def nuc_parser(input_file):\n",
    "    nuc_dict = {\"A\":0, \"T\":0, \"C\":0, \"G\":0,\n",
    "            \"a\":0, \"t\":0, \"c\":0, \"g\":0}\n",
    "    A_total = 0\n",
    "    T_total = 0\n",
    "    C_total = 0\n",
    "    G_total = 0\n",
    "    with open(input_file, 'r') as open_file:\n",
    "        for line in open_file:\n",
    "            nuc_dict = dict.fromkeys(nuc_dict, 0)\n",
    "            if line.startswith(\">\"):\n",
    "                ID = line.strip(\"\\n\")\n",
    "                ID = ID.replace('>','')\n",
    "                depth = int(re.search(\"(\\d+$)\", ID)[0])\n",
    "            else:\n",
    "                line = line.strip(\"\\n\")\n",
    "                for nuc in line:\n",
    "                    nuc_dict[nuc] = nuc_dict[nuc] + 1 \n",
    "                A_total = A_total + (nuc_dict[\"A\"]*depth)\n",
    "                T_total = T_total + (nuc_dict[\"T\"]*depth)\n",
    "                C_total = C_total + (nuc_dict[\"C\"]*depth)\n",
    "                G_total = G_total + (nuc_dict[\"G\"]*depth)\n",
    "\n",
    "    nuc_total = A_total + T_total + C_total + G_total\n",
    "    GC_content = (C_total + G_total)/nuc_total\n",
    "    file = input_file.strip(\".fna\")\n",
    "    return file, nuc_total, GC_content"
   ]
  },
  {
   "cell_type": "code",
   "execution_count": 50,
   "metadata": {},
   "outputs": [
    {
     "data": {
      "text/plain": [
       "'TALL_001-M-37-38-20161027'"
      ]
     },
     "execution_count": 50,
     "metadata": {},
     "output_type": "execute_result"
    }
   ],
   "source": []
  },
  {
   "cell_type": "code",
   "execution_count": 4,
   "metadata": {},
   "outputs": [
    {
     "data": {
      "text/plain": [
       "('TALL_001-M-37-38-20161027', 1941854, 0.566332999288309)"
      ]
     },
     "execution_count": 4,
     "metadata": {},
     "output_type": "execute_result"
    }
   ],
   "source": [
    "nuc_parser(input_file_for_func)"
   ]
  },
  {
   "cell_type": "code",
   "execution_count": 5,
   "metadata": {},
   "outputs": [],
   "source": [
    "files = glob.glob(\"*.fna\")"
   ]
  },
  {
   "cell_type": "code",
   "execution_count": 7,
   "metadata": {},
   "outputs": [],
   "source": [
    "with open('gc_16s_output.txt', 'w') as to_write:\n",
    "    for f in files:\n",
    "        output = list(nuc_parser(f))\n",
    "        to_write.write(output[0]+'\\t'+str(output[1])+'\\t'+str(output[2])+'\\n')\n",
    "to_write.close()"
   ]
  },
  {
   "cell_type": "code",
   "execution_count": 74,
   "metadata": {},
   "outputs": [
    {
     "data": {
      "text/plain": [
       "'UNDE_013-M-4.5-9-20161019'"
      ]
     },
     "execution_count": 74,
     "metadata": {},
     "output_type": "execute_result"
    }
   ],
   "source": [
    "output[0]"
   ]
  },
  {
   "cell_type": "code",
   "execution_count": 64,
   "metadata": {},
   "outputs": [
    {
     "data": {
      "text/plain": [
       "['UNDE_013-M-4.5-9-20161019', 3557061, 0.5629175321986325]"
      ]
     },
     "execution_count": 64,
     "metadata": {},
     "output_type": "execute_result"
    }
   ],
   "source": [
    "for i in output:\n",
    "    write(i)"
   ]
  },
  {
   "cell_type": "code",
   "execution_count": 68,
   "metadata": {},
   "outputs": [],
   "source": [
    "to_write.close()"
   ]
  },
  {
   "cell_type": "code",
   "execution_count": null,
   "metadata": {},
   "outputs": [],
   "source": []
  }
 ],
 "metadata": {
  "kernelspec": {
   "display_name": "codon-conda-env",
   "language": "python",
   "name": "auto_codon"
  },
  "language_info": {
   "codemirror_mode": {
    "name": "ipython",
    "version": 3
   },
   "file_extension": ".py",
   "mimetype": "text/x-python",
   "name": "python",
   "nbconvert_exporter": "python",
   "pygments_lexer": "ipython3",
   "version": "3.9.1"
  }
 },
 "nbformat": 4,
 "nbformat_minor": 4
}
