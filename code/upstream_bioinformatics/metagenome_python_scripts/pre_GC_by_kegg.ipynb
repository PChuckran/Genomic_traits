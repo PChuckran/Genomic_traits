{
 "cells": [
  {
   "cell_type": "code",
   "execution_count": 1,
   "id": "826b6f26",
   "metadata": {},
   "outputs": [],
   "source": [
    "%config Completer.use_jedi = False\n",
    "import numpy as np\n",
    "import pandas as pd\n",
    "import os\n",
    "import glob\n",
    "import csv\n",
    "from scipy import stats\n",
    "import seaborn as sns\n",
    "import matplotlib.pyplot as plt"
   ]
  },
  {
   "cell_type": "code",
   "execution_count": 2,
   "id": "ba0232a0",
   "metadata": {},
   "outputs": [],
   "source": [
    "os.chdir(\"../../../data/input/Raw_bioinfo/Second_analysis/\")"
   ]
  },
  {
   "cell_type": "code",
   "execution_count": 64,
   "id": "b3150762",
   "metadata": {},
   "outputs": [],
   "source": [
    "def parse_kegg_cts(filename):\n",
    "    kegg_cts = pd.read_csv(filename)\n",
    "    keggT = pd.DataFrame(kegg_cts[['GC_adj Bacteria', 'KEGG']]).T\n",
    "    keggT.columns = keggT.loc['KEGG']\n",
    "    keggT = keggT.drop(['KEGG'])\n",
    "    keggT[\"ID\"]= filename.replace(\"_R_genes_kegg_by_domain.csv\",\"\")\n",
    "    keggT = keggT.reset_index(drop=True)\n",
    "    return keggT"
   ]
  },
  {
   "cell_type": "code",
   "execution_count": 72,
   "id": "499cc432",
   "metadata": {},
   "outputs": [],
   "source": [
    "kegg_ct_files = glob.glob(\"*_R_genes_kegg_by_domain.csv\")"
   ]
  },
  {
   "cell_type": "code",
   "execution_count": 73,
   "id": "c6655df8",
   "metadata": {},
   "outputs": [],
   "source": [
    "kegg_ct_df = pd.DataFrame()\n",
    "for file in kegg_ct_files:\n",
    "    to_add = parse_kegg_cts(file)\n",
    "    kegg_ct_df = kegg_ct_df.append(to_add)"
   ]
  },
  {
   "cell_type": "code",
   "execution_count": 77,
   "id": "6aa14e23",
   "metadata": {},
   "outputs": [],
   "source": [
    "kegg_ct_df.to_csv(\"../../derived/GC_by_gene.csv\")"
   ]
  },
  {
   "cell_type": "code",
   "execution_count": null,
   "id": "478ad9e6",
   "metadata": {},
   "outputs": [],
   "source": []
  }
 ],
 "metadata": {
  "kernelspec": {
   "display_name": "Python 3",
   "language": "python",
   "name": "python3"
  },
  "language_info": {
   "codemirror_mode": {
    "name": "ipython",
    "version": 3
   },
   "file_extension": ".py",
   "mimetype": "text/x-python",
   "name": "python",
   "nbconvert_exporter": "python",
   "pygments_lexer": "ipython3",
   "version": "3.6.13"
  }
 },
 "nbformat": 4,
 "nbformat_minor": 5
}
