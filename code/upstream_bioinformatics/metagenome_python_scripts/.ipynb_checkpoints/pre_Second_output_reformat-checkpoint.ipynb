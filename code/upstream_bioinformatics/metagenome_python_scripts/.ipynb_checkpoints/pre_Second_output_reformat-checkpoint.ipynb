{
 "cells": [
  {
   "cell_type": "code",
   "execution_count": 1,
   "id": "a854b49d",
   "metadata": {},
   "outputs": [],
   "source": [
    "%config Completer.use_jedi = False\n",
    "import numpy as np\n",
    "import pandas as pd\n",
    "import os\n",
    "import glob\n",
    "import csv\n",
    "from scipy import stats\n",
    "import seaborn as sns\n",
    "import matplotlib.pyplot as plt"
   ]
  },
  {
   "cell_type": "code",
   "execution_count": 2,
   "id": "d83efbfc",
   "metadata": {},
   "outputs": [],
   "source": [
    "os.chdir(\"../../../data/input/Raw_bioinfo/Second_analysis/\")"
   ]
  },
  {
   "cell_type": "code",
   "execution_count": 3,
   "id": "0bfc94d8",
   "metadata": {},
   "outputs": [],
   "source": [
    "def parse_domain_cts(filename):\n",
    "    domain_cts = pd.read_csv(filename)\n",
    "    domain_cts[\"ID\"]= filename.replace(\"_R_genes_genecounts_by_domain.csv\",\"\")\n",
    "    domain_cts[\"total_atm\"] = domain_cts[\"AA_C\"]+domain_cts[\"AA_H\"]+domain_cts[\"AA_N\"]+domain_cts[\"AA_O\"]+domain_cts[\"AA_S\"]\n",
    "    domain_cts[[\"AA_C\", \"AA_H\", \"AA_N\", \n",
    "                \"AA_O\", \"AA_S\"]] = domain_cts[[\"AA_C\", \"AA_H\", \"AA_N\", \n",
    "                                               \"AA_O\", \"AA_S\"]].div(domain_cts[\"total_atm\"], axis = 0)\n",
    "    return domain_cts"
   ]
  },
  {
   "cell_type": "code",
   "execution_count": 7,
   "id": "91f5a207",
   "metadata": {},
   "outputs": [],
   "source": [
    "domain_ct_files = glob.glob(\"*genes_genecounts_by_domain.csv\")"
   ]
  },
  {
   "cell_type": "code",
   "execution_count": 8,
   "id": "a74e6c63",
   "metadata": {},
   "outputs": [],
   "source": [
    "domain_ct_df = pd.DataFrame()\n",
    "for file in domain_ct_files:\n",
    "    to_add = parse_domain_cts(file)\n",
    "    domain_ct_df = domain_ct_df.append(to_add)"
   ]
  },
  {
   "cell_type": "code",
   "execution_count": 9,
   "id": "f1a1cf27",
   "metadata": {},
   "outputs": [],
   "source": [
    "domain_ct_df.to_csv(\"../../derived/counts_by_domain.csv\")"
   ]
  },
  {
   "cell_type": "code",
   "execution_count": null,
   "id": "2027b759",
   "metadata": {},
   "outputs": [],
   "source": []
  }
 ],
 "metadata": {
  "kernelspec": {
   "display_name": "Python 3",
   "language": "python",
   "name": "python3"
  },
  "language_info": {
   "codemirror_mode": {
    "name": "ipython",
    "version": 3
   },
   "file_extension": ".py",
   "mimetype": "text/x-python",
   "name": "python",
   "nbconvert_exporter": "python",
   "pygments_lexer": "ipython3",
   "version": "3.6.13"
  }
 },
 "nbformat": 4,
 "nbformat_minor": 5
}
