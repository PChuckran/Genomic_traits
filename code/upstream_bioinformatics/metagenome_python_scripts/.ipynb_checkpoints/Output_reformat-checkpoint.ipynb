{
 "cells": [
  {
   "cell_type": "code",
   "execution_count": 1,
   "id": "joined-cleaners",
   "metadata": {},
   "outputs": [],
   "source": [
    "%config Completer.use_jedi = False\n",
    "import numpy as np\n",
    "import pandas as pd\n",
    "import os\n",
    "import glob\n",
    "import csv\n",
    "from scipy import stats\n",
    "import seaborn as sns\n",
    "import matplotlib.pyplot as plt"
   ]
  },
  {
   "cell_type": "code",
   "execution_count": 2,
   "id": "prospective-appendix",
   "metadata": {},
   "outputs": [],
   "source": [
    "def parse_out(filename):\n",
    "    metaG = str()\n",
    "    ags = int()\n",
    "    bp = int()\n",
    "    genome_eq = int()\n",
    "    reads = int()\n",
    "    infile = open(filename, 'r')\n",
    "    file=[]\n",
    "    for Line in infile:\n",
    "        Line = Line.strip(\"\\n\")\n",
    "        Line = Line.split(\"\\t\")\n",
    "        file.append(Line)\n",
    "    for elem in file:\n",
    "        if elem[0] == 'metagenome:':\n",
    "            metaG = elem[1].split(\".\")[0]\n",
    "        if elem[0] == 'average_genome_size:':\n",
    "            ags = elem[1]\n",
    "        if elem[0] == 'total_bases:':\n",
    "            bp = elem[1]\n",
    "        if elem[0] == 'genome_equivalents:':\n",
    "            genome_eq = elem[1]\n",
    "        if elem[0] == 'reads_sampled:':\n",
    "            reads = elem[1]\n",
    "        else:\n",
    "            next\n",
    "    #returnlist = [metaG, ags, bp, genome_eq]\n",
    "    return metaG, ags, bp, genome_eq, reads\n",
    "\n"
   ]
  },
  {
   "cell_type": "code",
   "execution_count": 3,
   "id": "atomic-logistics",
   "metadata": {},
   "outputs": [],
   "source": [
    "os.chdir(\"/Users/petechuckran/Documents/GitHub/frida/data/input/Raw_bioinfo/\")\n",
    "census_files = glob.glob(\"*census.txt\")"
   ]
  },
  {
   "cell_type": "code",
   "execution_count": 4,
   "id": "declared-workplace",
   "metadata": {},
   "outputs": [],
   "source": [
    "census_data = pd.DataFrame(columns=[\"ID\", \"AGS\", \"bp\", \"Genomes\", \"reads\"])"
   ]
  },
  {
   "cell_type": "code",
   "execution_count": 5,
   "id": "incomplete-hunger",
   "metadata": {},
   "outputs": [],
   "source": [
    "i = 0\n",
    "for f in census_files:\n",
    "    i += 1\n",
    "    census_data.loc[i] = list(parse_out(f))\n",
    "    "
   ]
  },
  {
   "cell_type": "code",
   "execution_count": 6,
   "id": "coordinated-timing",
   "metadata": {},
   "outputs": [
    {
     "data": {
      "text/html": [
       "<div>\n",
       "<style scoped>\n",
       "    .dataframe tbody tr th:only-of-type {\n",
       "        vertical-align: middle;\n",
       "    }\n",
       "\n",
       "    .dataframe tbody tr th {\n",
       "        vertical-align: top;\n",
       "    }\n",
       "\n",
       "    .dataframe thead th {\n",
       "        text-align: right;\n",
       "    }\n",
       "</style>\n",
       "<table border=\"1\" class=\"dataframe\">\n",
       "  <thead>\n",
       "    <tr style=\"text-align: right;\">\n",
       "      <th></th>\n",
       "      <th>ID</th>\n",
       "      <th>AGS</th>\n",
       "      <th>bp</th>\n",
       "      <th>Genomes</th>\n",
       "      <th>reads</th>\n",
       "    </tr>\n",
       "  </thead>\n",
       "  <tbody>\n",
       "    <tr>\n",
       "      <th>1</th>\n",
       "      <td>BMI_Plate81WellG4</td>\n",
       "      <td>5893983.17843</td>\n",
       "      <td>3000016122</td>\n",
       "      <td>508.996383461</td>\n",
       "      <td>2000000</td>\n",
       "    </tr>\n",
       "    <tr>\n",
       "      <th>2</th>\n",
       "      <td>BMI_Plate25WellH11</td>\n",
       "      <td>5287121.30946</td>\n",
       "      <td>946528863</td>\n",
       "      <td>179.025372712</td>\n",
       "      <td>2000000</td>\n",
       "    </tr>\n",
       "    <tr>\n",
       "      <th>3</th>\n",
       "      <td>BMI_Plate61WellF4</td>\n",
       "      <td>6085112.42325</td>\n",
       "      <td>4003276879</td>\n",
       "      <td>657.880512397</td>\n",
       "      <td>2000000</td>\n",
       "    </tr>\n",
       "    <tr>\n",
       "      <th>4</th>\n",
       "      <td>BMI_Plate72WellH3</td>\n",
       "      <td>7407975.40765</td>\n",
       "      <td>7845173113</td>\n",
       "      <td>1059.01716478</td>\n",
       "      <td>2000000</td>\n",
       "    </tr>\n",
       "    <tr>\n",
       "      <th>5</th>\n",
       "      <td>BMI_Plate71WellC1</td>\n",
       "      <td>7229243.71649</td>\n",
       "      <td>10076645958</td>\n",
       "      <td>1393.87276915</td>\n",
       "      <td>2000000</td>\n",
       "    </tr>\n",
       "    <tr>\n",
       "      <th>...</th>\n",
       "      <td>...</td>\n",
       "      <td>...</td>\n",
       "      <td>...</td>\n",
       "      <td>...</td>\n",
       "      <td>...</td>\n",
       "    </tr>\n",
       "    <tr>\n",
       "      <th>83</th>\n",
       "      <td>BMI_Plate28WellG11</td>\n",
       "      <td>6707055.03518</td>\n",
       "      <td>1371685065</td>\n",
       "      <td>204.513763165</td>\n",
       "      <td>2000000</td>\n",
       "    </tr>\n",
       "    <tr>\n",
       "      <th>84</th>\n",
       "      <td>BMI_Plate28WellF12</td>\n",
       "      <td>5912580.23462</td>\n",
       "      <td>3181950448</td>\n",
       "      <td>538.166134198</td>\n",
       "      <td>2000000</td>\n",
       "    </tr>\n",
       "    <tr>\n",
       "      <th>85</th>\n",
       "      <td>BMI_Plate28WellF7</td>\n",
       "      <td>6243189.82345</td>\n",
       "      <td>2819848213</td>\n",
       "      <td>451.667864143</td>\n",
       "      <td>2000000</td>\n",
       "    </tr>\n",
       "    <tr>\n",
       "      <th>86</th>\n",
       "      <td>BMI_Plate28WellG2</td>\n",
       "      <td>5531777.446</td>\n",
       "      <td>7069528</td>\n",
       "      <td>1.27798489166</td>\n",
       "      <td>34844</td>\n",
       "    </tr>\n",
       "    <tr>\n",
       "      <th>87</th>\n",
       "      <td>BMI_Plate41WellC2</td>\n",
       "      <td>5972941.03317</td>\n",
       "      <td>8017468147</td>\n",
       "      <td>1342.29822502</td>\n",
       "      <td>2000000</td>\n",
       "    </tr>\n",
       "  </tbody>\n",
       "</table>\n",
       "<p>87 rows × 5 columns</p>\n",
       "</div>"
      ],
      "text/plain": [
       "                    ID            AGS           bp        Genomes    reads\n",
       "1    BMI_Plate81WellG4  5893983.17843   3000016122  508.996383461  2000000\n",
       "2   BMI_Plate25WellH11  5287121.30946    946528863  179.025372712  2000000\n",
       "3    BMI_Plate61WellF4  6085112.42325   4003276879  657.880512397  2000000\n",
       "4    BMI_Plate72WellH3  7407975.40765   7845173113  1059.01716478  2000000\n",
       "5    BMI_Plate71WellC1  7229243.71649  10076645958  1393.87276915  2000000\n",
       "..                 ...            ...          ...            ...      ...\n",
       "83  BMI_Plate28WellG11  6707055.03518   1371685065  204.513763165  2000000\n",
       "84  BMI_Plate28WellF12  5912580.23462   3181950448  538.166134198  2000000\n",
       "85   BMI_Plate28WellF7  6243189.82345   2819848213  451.667864143  2000000\n",
       "86   BMI_Plate28WellG2    5531777.446      7069528  1.27798489166    34844\n",
       "87   BMI_Plate41WellC2  5972941.03317   8017468147  1342.29822502  2000000\n",
       "\n",
       "[87 rows x 5 columns]"
      ]
     },
     "execution_count": 6,
     "metadata": {},
     "output_type": "execute_result"
    }
   ],
   "source": [
    "census_data.ID = census_data.ID.str.replace(\"_RPE_1\",\"\")\n",
    "census_data"
   ]
  },
  {
   "cell_type": "code",
   "execution_count": 7,
   "id": "prime-discretion",
   "metadata": {},
   "outputs": [],
   "source": [
    "def parse_codon_output(filename):\n",
    "    skip = 0\n",
    "    output_line = []\n",
    "    with open(filename) as csv_file:\n",
    "        csv_reader = csv.reader(csv_file, delimiter=',')\n",
    "        for row in csv_reader:\n",
    "            if skip == 0:\n",
    "                skip += 1\n",
    "            else:\n",
    "                output_line.append(row[1])\n",
    "        output_line.append(filename.replace(\"_R_genes_AA_codon_output.csv\",\"\"))\n",
    "    return output_line\n",
    "\n"
   ]
  },
  {
   "cell_type": "code",
   "execution_count": 8,
   "id": "going-journalist",
   "metadata": {},
   "outputs": [],
   "source": [
    "codon_files = glob.glob(\"*codon_output.csv\")"
   ]
  },
  {
   "cell_type": "code",
   "execution_count": 9,
   "id": "sharp-turkish",
   "metadata": {},
   "outputs": [],
   "source": [
    "skip = 0\n",
    "colnames = []\n",
    "test_codon_file = codon_files[0]\n",
    "with open(test_codon_file) as csv_file:\n",
    "    csv_reader = csv.reader(csv_file, delimiter=',')\n",
    "    for row in csv_reader:\n",
    "        if skip == 0:\n",
    "            skip += 1\n",
    "        else:\n",
    "            colnames.append(row[0])\n",
    "\n",
    "colnames.append(\"ID\")\n",
    "Codon_DF = pd.DataFrame(columns=colnames)"
   ]
  },
  {
   "cell_type": "code",
   "execution_count": 10,
   "id": "urban-sampling",
   "metadata": {},
   "outputs": [],
   "source": [
    "row = 0\n",
    "for f in codon_files:\n",
    "    Codon_DF.loc[row] = parse_codon_output(f)\n",
    "    row += 1\n",
    "    "
   ]
  },
  {
   "cell_type": "code",
   "execution_count": 11,
   "id": "saved-covering",
   "metadata": {},
   "outputs": [],
   "source": [
    "gc_files = glob.glob(\"*GC_output.txt\")"
   ]
  },
  {
   "cell_type": "code",
   "execution_count": 12,
   "id": "tribal-julian",
   "metadata": {},
   "outputs": [],
   "source": [
    "skip = 0\n",
    "with open(gc_files[0]) as gc_test_file:\n",
    "    for line in gc_test_file:\n",
    "        if skip == 0:\n",
    "            colnames = line.strip(\"\\n\").split(\"\\t\")\n",
    "            skip += 1\n",
    "        else:\n",
    "            next\n",
    "\n",
    "colnames[0] = \"ID\"\n",
    "\n",
    "GC_DF = pd.DataFrame(columns=colnames)\n"
   ]
  },
  {
   "cell_type": "code",
   "execution_count": 13,
   "id": "proud-defendant",
   "metadata": {},
   "outputs": [],
   "source": [
    "def GC_parse_output(filename):\n",
    "    skip = 0\n",
    "    gc_output_line = []\n",
    "    with open(filename) as gc_test_file:\n",
    "        for line in gc_test_file:\n",
    "            if skip == 0:\n",
    "                skip += 1\n",
    "            else:\n",
    "                gc_output_line = line.strip(\"\\n\").split(\"\\t\")\n",
    "    return gc_output_line\n",
    "\n"
   ]
  },
  {
   "cell_type": "code",
   "execution_count": 14,
   "id": "wanted-investigator",
   "metadata": {},
   "outputs": [],
   "source": [
    "row = 0\n",
    "for f in gc_files:\n",
    "    GC_DF.loc[row] = GC_parse_output(f)\n",
    "    row += 1"
   ]
  },
  {
   "cell_type": "code",
   "execution_count": 15,
   "id": "classified-definition",
   "metadata": {},
   "outputs": [],
   "source": [
    "GC_DF.ID = GC_DF.ID.str.replace(\"_R_genes\",\"\")"
   ]
  },
  {
   "cell_type": "code",
   "execution_count": 16,
   "id": "usual-labor",
   "metadata": {},
   "outputs": [],
   "source": [
    "census_gc = census_data.merge(GC_DF, on=['ID'], how = 'left')"
   ]
  },
  {
   "cell_type": "code",
   "execution_count": 17,
   "id": "authorized-consultation",
   "metadata": {},
   "outputs": [],
   "source": [
    "census_gc = census_gc.dropna()\n",
    "census_gc[\"AGS\"] = pd.to_numeric(census_gc[\"AGS\"])\n",
    "census_gc[\"GC_bact\"] = pd.to_numeric(census_gc[\"GC_bact\"])\n",
    "census_gc[\"AA_CN\"] = pd.to_numeric(census_gc[\"AA_CN\"])\n",
    "census_gc[\"GC\"] = pd.to_numeric(census_gc[\"GC\"])"
   ]
  },
  {
   "cell_type": "code",
   "execution_count": 18,
   "id": "wrong-toyota",
   "metadata": {},
   "outputs": [],
   "source": [
    "census_gc.to_csv(\"/Users/petechuckran/Documents/GitHub/frida/data/input/genomic_traits.csv\")"
   ]
  },
  {
   "cell_type": "code",
   "execution_count": 19,
   "id": "rough-beaver",
   "metadata": {},
   "outputs": [
    {
     "data": {
      "text/plain": [
       "<AxesSubplot:xlabel='GC_bact', ylabel='AA_CN'>"
      ]
     },
     "execution_count": 19,
     "metadata": {},
     "output_type": "execute_result"
    },
    {
     "data": {
      "image/png": "[encoded data removed]",
      "text/plain": [
       "<Figure size 432x288 with 1 Axes>"
      ]
     },
     "metadata": {
      "needs_background": "light"
     },
     "output_type": "display_data"
    }
   ],
   "source": [
    "census_gc.plot.scatter(x=\"GC_bact\", y = \"AA_CN\",)"
   ]
  },
  {
   "cell_type": "code",
   "execution_count": 26,
   "id": "latter-literacy",
   "metadata": {},
   "outputs": [
    {
     "data": {
      "text/plain": [
       "<AxesSubplot:xlabel='AGS', ylabel='GC_bact'>"
      ]
     },
     "execution_count": 26,
     "metadata": {},
     "output_type": "execute_result"
    },
    {
     "data": {
      "image/png": "[encoded data removed]",
      "text/plain": [
       "<Figure size 432x288 with 1 Axes>"
      ]
     },
     "metadata": {
      "needs_background": "light"
     },
     "output_type": "display_data"
    }
   ],
   "source": [
    "census_gc.plot.scatter(x=\"AGS\", y = \"GC_bact\",)"
   ]
  },
  {
   "cell_type": "code",
   "execution_count": null,
   "id": "parental-fireplace",
   "metadata": {},
   "outputs": [],
   "source": []
  }
 ],
 "metadata": {
  "kernelspec": {
   "display_name": "Python 3",
   "language": "python",
   "name": "python3"
  },
  "language_info": {
   "codemirror_mode": {
    "name": "ipython",
    "version": 3
   },
   "file_extension": ".py",
   "mimetype": "text/x-python",
   "name": "python",
   "nbconvert_exporter": "python",
   "pygments_lexer": "ipython3",
   "version": "3.6.12"
  }
 },
 "nbformat": 4,
 "nbformat_minor": 5
}
