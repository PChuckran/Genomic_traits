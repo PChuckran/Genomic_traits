{
 "cells": [
  {
   "cell_type": "code",
   "execution_count": 3,
   "id": "c21d94e2",
   "metadata": {},
   "outputs": [],
   "source": [
    "import numpy as np\n",
    "import pandas as pd\n",
    "import os\n",
    "import glob\n",
    "import csv"
   ]
  },
  {
   "cell_type": "code",
   "execution_count": 2,
   "id": "5f7d7248",
   "metadata": {},
   "outputs": [],
   "source": [
    "def parse_out(filename):\n",
    "    metaG = str()\n",
    "    ags = int()\n",
    "    bp = int()\n",
    "    genome_eq = int()\n",
    "    reads = int()\n",
    "    infile = open(filename, 'r')\n",
    "    file=[]\n",
    "    for Line in infile:\n",
    "        Line = Line.strip(\"\\n\")\n",
    "        Line = Line.split(\"\\t\")\n",
    "        file.append(Line)\n",
    "    for elem in file:\n",
    "        if elem[0] == 'metagenome:':\n",
    "            metaG = elem[1].split(\".\")[0]\n",
    "        if elem[0] == 'average_genome_size:':\n",
    "            ags = elem[1]\n",
    "        if elem[0] == 'total_bases:':\n",
    "            bp = elem[1]\n",
    "        if elem[0] == 'genome_equivalents:':\n",
    "            genome_eq = elem[1]\n",
    "        if elem[0] == 'reads_sampled:':\n",
    "            reads = elem[1]\n",
    "        else:\n",
    "            next\n",
    "    #returnlist = [metaG, ags, bp, genome_eq]\n",
    "    return metaG, ags, bp, genome_eq, reads\n",
    "\n"
   ]
  },
  {
   "cell_type": "code",
   "execution_count": 3,
   "id": "54d66af1",
   "metadata": {},
   "outputs": [],
   "source": [
    "os.chdir(\"../../../data/input/Raw_bioinfo/\")\n",
    "census_files = glob.glob(\"*census.txt\")"
   ]
  },
  {
   "cell_type": "code",
   "execution_count": 4,
   "id": "1a9ab8ea",
   "metadata": {},
   "outputs": [],
   "source": [
    "census_data = pd.DataFrame(columns=[\"ID\", \"AGS\", \"bp\", \"Genomes\", \"reads\"])"
   ]
  },
  {
   "cell_type": "code",
   "execution_count": 5,
   "id": "b5ec2339",
   "metadata": {},
   "outputs": [],
   "source": [
    "i = 0\n",
    "for f in census_files:\n",
    "    i += 1\n",
    "    census_data.loc[i] = list(parse_out(f))\n",
    "    "
   ]
  },
  {
   "cell_type": "code",
   "execution_count": 6,
   "id": "582f437d",
   "metadata": {},
   "outputs": [
    {
     "data": {
      "text/html": [
       "<div>\n",
       "<style scoped>\n",
       "    .dataframe tbody tr th:only-of-type {\n",
       "        vertical-align: middle;\n",
       "    }\n",
       "\n",
       "    .dataframe tbody tr th {\n",
       "        vertical-align: top;\n",
       "    }\n",
       "\n",
       "    .dataframe thead th {\n",
       "        text-align: right;\n",
       "    }\n",
       "</style>\n",
       "<table border=\"1\" class=\"dataframe\">\n",
       "  <thead>\n",
       "    <tr style=\"text-align: right;\">\n",
       "      <th></th>\n",
       "      <th>ID</th>\n",
       "      <th>AGS</th>\n",
       "      <th>bp</th>\n",
       "      <th>Genomes</th>\n",
       "      <th>reads</th>\n",
       "    </tr>\n",
       "  </thead>\n",
       "  <tbody>\n",
       "    <tr>\n",
       "      <th>1</th>\n",
       "      <td>BMI_Plate10WellA2_mms</td>\n",
       "      <td>6113683.90291</td>\n",
       "      <td>2188103613</td>\n",
       "      <td>357.902640658</td>\n",
       "      <td>2000000</td>\n",
       "    </tr>\n",
       "    <tr>\n",
       "      <th>2</th>\n",
       "      <td>BMI_Plate81WellG4</td>\n",
       "      <td>5893983.17843</td>\n",
       "      <td>3000016122</td>\n",
       "      <td>508.996383461</td>\n",
       "      <td>2000000</td>\n",
       "    </tr>\n",
       "    <tr>\n",
       "      <th>3</th>\n",
       "      <td>BMI_Plate81WellF1</td>\n",
       "      <td>8574827.07887</td>\n",
       "      <td>2172643387</td>\n",
       "      <td>253.374600679</td>\n",
       "      <td>2000000</td>\n",
       "    </tr>\n",
       "    <tr>\n",
       "      <th>4</th>\n",
       "      <td>BMI_Plate72WellG4</td>\n",
       "      <td>7950295.40616</td>\n",
       "      <td>4782868115</td>\n",
       "      <td>601.596276698</td>\n",
       "      <td>2000000</td>\n",
       "    </tr>\n",
       "    <tr>\n",
       "      <th>5</th>\n",
       "      <td>BMI_Plate72WellF1</td>\n",
       "      <td>5889560.87872</td>\n",
       "      <td>2970681281</td>\n",
       "      <td>504.397754293</td>\n",
       "      <td>2000000</td>\n",
       "    </tr>\n",
       "    <tr>\n",
       "      <th>...</th>\n",
       "      <td>...</td>\n",
       "      <td>...</td>\n",
       "      <td>...</td>\n",
       "      <td>...</td>\n",
       "      <td>...</td>\n",
       "    </tr>\n",
       "    <tr>\n",
       "      <th>394</th>\n",
       "      <td>BMI_Plate41WellC2</td>\n",
       "      <td>5972941.03317</td>\n",
       "      <td>8017468147</td>\n",
       "      <td>1342.29822502</td>\n",
       "      <td>2000000</td>\n",
       "    </tr>\n",
       "    <tr>\n",
       "      <th>395</th>\n",
       "      <td>BMI_Plate41WellB7</td>\n",
       "      <td>5740209.15808</td>\n",
       "      <td>3889599213</td>\n",
       "      <td>677.605833844</td>\n",
       "      <td>2000000</td>\n",
       "    </tr>\n",
       "    <tr>\n",
       "      <th>396</th>\n",
       "      <td>BMI_Plate19WellB5_mms</td>\n",
       "      <td>8188647.91804</td>\n",
       "      <td>1567855896</td>\n",
       "      <td>191.467005505</td>\n",
       "      <td>2000000</td>\n",
       "    </tr>\n",
       "    <tr>\n",
       "      <th>397</th>\n",
       "      <td>BMI_Plate88WellG3</td>\n",
       "      <td>6358245.94996</td>\n",
       "      <td>1784753779</td>\n",
       "      <td>280.699078495</td>\n",
       "      <td>2000000</td>\n",
       "    </tr>\n",
       "    <tr>\n",
       "      <th>398</th>\n",
       "      <td>BMI_Plate41WellD10</td>\n",
       "      <td>7403368.61777</td>\n",
       "      <td>568439637</td>\n",
       "      <td>76.7812149236</td>\n",
       "      <td>2000000</td>\n",
       "    </tr>\n",
       "  </tbody>\n",
       "</table>\n",
       "<p>398 rows × 5 columns</p>\n",
       "</div>"
      ],
      "text/plain": [
       "                        ID            AGS          bp        Genomes    reads\n",
       "1    BMI_Plate10WellA2_mms  6113683.90291  2188103613  357.902640658  2000000\n",
       "2        BMI_Plate81WellG4  5893983.17843  3000016122  508.996383461  2000000\n",
       "3        BMI_Plate81WellF1  8574827.07887  2172643387  253.374600679  2000000\n",
       "4        BMI_Plate72WellG4  7950295.40616  4782868115  601.596276698  2000000\n",
       "5        BMI_Plate72WellF1  5889560.87872  2970681281  504.397754293  2000000\n",
       "..                     ...            ...         ...            ...      ...\n",
       "394      BMI_Plate41WellC2  5972941.03317  8017468147  1342.29822502  2000000\n",
       "395      BMI_Plate41WellB7  5740209.15808  3889599213  677.605833844  2000000\n",
       "396  BMI_Plate19WellB5_mms  8188647.91804  1567855896  191.467005505  2000000\n",
       "397      BMI_Plate88WellG3  6358245.94996  1784753779  280.699078495  2000000\n",
       "398     BMI_Plate41WellD10  7403368.61777   568439637  76.7812149236  2000000\n",
       "\n",
       "[398 rows x 5 columns]"
      ]
     },
     "execution_count": 6,
     "metadata": {},
     "output_type": "execute_result"
    }
   ],
   "source": [
    "census_data.ID = census_data.ID.str.replace(\"_RPE_1\",\"\")\n",
    "census_data"
   ]
  },
  {
   "cell_type": "code",
   "execution_count": 8,
   "id": "5894012c",
   "metadata": {},
   "outputs": [],
   "source": [
    "def parse_codon_output(filename):\n",
    "    skip = 0\n",
    "    output_line = []\n",
    "    with open(filename) as csv_file:\n",
    "        csv_reader = csv.reader(csv_file, delimiter=',')\n",
    "        for row in csv_reader:\n",
    "            if skip == 0:\n",
    "                skip += 1\n",
    "            else:\n",
    "                output_line.append(row[1])\n",
    "        output_line.append(filename.replace(\"_R_genes_AA_codon_output.csv\",\"\"))\n",
    "    return output_line\n",
    "\n"
   ]
  },
  {
   "cell_type": "code",
   "execution_count": 9,
   "id": "d096ec83",
   "metadata": {},
   "outputs": [],
   "source": [
    "codon_files = glob.glob(\"*codon_output.csv\")"
   ]
  },
  {
   "cell_type": "code",
   "execution_count": 10,
   "id": "28b31617",
   "metadata": {},
   "outputs": [],
   "source": [
    "skip = 0\n",
    "colnames = []\n",
    "test_codon_file = codon_files[0]\n",
    "with open(test_codon_file) as csv_file:\n",
    "    csv_reader = csv.reader(csv_file, delimiter=',')\n",
    "    for row in csv_reader:\n",
    "        if skip == 0:\n",
    "            skip += 1\n",
    "        else:\n",
    "            colnames.append(row[0])\n",
    "\n",
    "colnames.append(\"ID\")\n",
    "Codon_DF = pd.DataFrame(columns=colnames)"
   ]
  },
  {
   "cell_type": "code",
   "execution_count": 11,
   "id": "9c18ecb7",
   "metadata": {},
   "outputs": [],
   "source": [
    "row = 0\n",
    "for f in codon_files:\n",
    "    Codon_DF.loc[row] = parse_codon_output(f)\n",
    "    row += 1\n",
    "    "
   ]
  },
  {
   "cell_type": "code",
   "execution_count": 12,
   "id": "7b62cd23",
   "metadata": {},
   "outputs": [],
   "source": [
    "Codon_DF.to_csv(\"../derived/codon_usage.csv\")"
   ]
  },
  {
   "cell_type": "code",
   "execution_count": 13,
   "id": "6d9e4414",
   "metadata": {},
   "outputs": [],
   "source": [
    "gc_files = glob.glob(\"*GC_output.txt\")"
   ]
  },
  {
   "cell_type": "code",
   "execution_count": 14,
   "id": "df378b2b",
   "metadata": {},
   "outputs": [],
   "source": [
    "skip = 0\n",
    "with open(gc_files[0]) as gc_test_file:\n",
    "    for line in gc_test_file:\n",
    "        if skip == 0:\n",
    "            colnames = line.strip(\"\\n\").split(\"\\t\")\n",
    "            skip += 1\n",
    "        else:\n",
    "            next\n",
    "\n",
    "colnames[0] = \"ID\"\n",
    "\n",
    "GC_DF = pd.DataFrame(columns=colnames)\n"
   ]
  },
  {
   "cell_type": "code",
   "execution_count": 15,
   "id": "eff5ddd0",
   "metadata": {},
   "outputs": [],
   "source": [
    "def GC_parse_output(filename):\n",
    "    skip = 0\n",
    "    gc_output_line = []\n",
    "    with open(filename) as gc_test_file:\n",
    "        for line in gc_test_file:\n",
    "            if skip == 0:\n",
    "                skip += 1\n",
    "            else:\n",
    "                gc_output_line = line.strip(\"\\n\").split(\"\\t\")\n",
    "    return gc_output_line\n",
    "\n"
   ]
  },
  {
   "cell_type": "code",
   "execution_count": 16,
   "id": "312461cd",
   "metadata": {},
   "outputs": [],
   "source": [
    "row = 0\n",
    "for f in gc_files:\n",
    "    GC_DF.loc[row] = GC_parse_output(f)\n",
    "    row += 1"
   ]
  },
  {
   "cell_type": "code",
   "execution_count": 17,
   "id": "075fad4e",
   "metadata": {},
   "outputs": [],
   "source": [
    "GC_DF.ID = GC_DF.ID.str.replace(\"_R_genes\",\"\")"
   ]
  },
  {
   "cell_type": "code",
   "execution_count": 18,
   "id": "1de0765d",
   "metadata": {},
   "outputs": [],
   "source": [
    "census_gc = census_data.merge(GC_DF, on=['ID'], how = 'left')"
   ]
  },
  {
   "cell_type": "code",
   "execution_count": 19,
   "id": "a3379b75",
   "metadata": {},
   "outputs": [],
   "source": [
    "census_gc = census_gc.dropna()\n",
    "census_gc[\"AGS\"] = pd.to_numeric(census_gc[\"AGS\"])\n",
    "census_gc[\"GC_bact\"] = pd.to_numeric(census_gc[\"GC_bact\"])\n",
    "census_gc[\"AA_CN\"] = pd.to_numeric(census_gc[\"AA_CN\"])\n",
    "census_gc[\"GC\"] = pd.to_numeric(census_gc[\"GC\"])"
   ]
  },
  {
   "cell_type": "code",
   "execution_count": 20,
   "id": "e36409d5",
   "metadata": {},
   "outputs": [],
   "source": [
    "census_gc.to_csv(\"../derived/genomic_traits.csv\")"
   ]
  },
  {
   "cell_type": "code",
   "execution_count": null,
   "id": "12ef96ba",
   "metadata": {},
   "outputs": [],
   "source": []
  }
 ],
 "metadata": {
  "kernelspec": {
   "display_name": "Python 3",
   "language": "python",
   "name": "python3"
  },
  "language_info": {
   "codemirror_mode": {
    "name": "ipython",
    "version": 3
   },
   "file_extension": ".py",
   "mimetype": "text/x-python",
   "name": "python",
   "nbconvert_exporter": "python",
   "pygments_lexer": "ipython3",
   "version": "3.6.13"
  }
 },
 "nbformat": 4,
 "nbformat_minor": 5
}
