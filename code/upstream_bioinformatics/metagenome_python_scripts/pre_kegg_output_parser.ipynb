{
 "cells": [
  {
   "cell_type": "code",
   "execution_count": 1,
   "id": "25c37f22",
   "metadata": {},
   "outputs": [],
   "source": [
    "%config Completer.use_jedi = False\n",
    "import numpy as np\n",
    "import pandas as pd\n",
    "import os\n",
    "import glob\n",
    "import csv"
   ]
  },
  {
   "cell_type": "code",
   "execution_count": 2,
   "id": "89387d0d",
   "metadata": {},
   "outputs": [],
   "source": [
    "os.chdir(\"../../../data/input/Raw_bioinfo/\")\n"
   ]
  },
  {
   "cell_type": "code",
   "execution_count": 3,
   "id": "1b7c3932",
   "metadata": {},
   "outputs": [],
   "source": [
    "def parse_out(filename):\n",
    "    basename =  filename.replace(\"_R_genes_kegg_output.csv\",\"\")\n",
    "    kegg_df = pd.read_csv(filename)\n",
    "    kegg_df = kegg_df.rename(columns = {\"kegg_sum\":basename})\n",
    "    return kegg_df"
   ]
  },
  {
   "cell_type": "code",
   "execution_count": 4,
   "id": "7ee8f816",
   "metadata": {},
   "outputs": [
    {
     "data": {
      "text/html": [
       "<div>\n",
       "<style scoped>\n",
       "    .dataframe tbody tr th:only-of-type {\n",
       "        vertical-align: middle;\n",
       "    }\n",
       "\n",
       "    .dataframe tbody tr th {\n",
       "        vertical-align: top;\n",
       "    }\n",
       "\n",
       "    .dataframe thead th {\n",
       "        text-align: right;\n",
       "    }\n",
       "</style>\n",
       "<table border=\"1\" class=\"dataframe\">\n",
       "  <thead>\n",
       "    <tr style=\"text-align: right;\">\n",
       "      <th></th>\n",
       "      <th>KEGG</th>\n",
       "    </tr>\n",
       "  </thead>\n",
       "  <tbody>\n",
       "  </tbody>\n",
       "</table>\n",
       "</div>"
      ],
      "text/plain": [
       "Empty DataFrame\n",
       "Columns: [KEGG]\n",
       "Index: []"
      ]
     },
     "execution_count": 4,
     "metadata": {},
     "output_type": "execute_result"
    }
   ],
   "source": [
    "full_kegg = pd.DataFrame(columns=[\"KEGG\"])\n",
    "full_kegg"
   ]
  },
  {
   "cell_type": "code",
   "execution_count": 5,
   "id": "5e2ad0a7",
   "metadata": {},
   "outputs": [],
   "source": [
    "kegg_files = glob.glob(\"*kegg_output.csv\")"
   ]
  },
  {
   "cell_type": "code",
   "execution_count": 6,
   "id": "cfcb3aef",
   "metadata": {},
   "outputs": [],
   "source": [
    "for file in kegg_files:\n",
    "    full_kegg = full_kegg.merge(parse_out(file), how = \"outer\", on = \"KEGG\")"
   ]
  },
  {
   "cell_type": "code",
   "execution_count": 7,
   "id": "cbd38433",
   "metadata": {},
   "outputs": [],
   "source": [
    "transposed_kegg = full_kegg.set_index([\"KEGG\"]).T"
   ]
  },
  {
   "cell_type": "code",
   "execution_count": 8,
   "id": "6d07070d",
   "metadata": {},
   "outputs": [],
   "source": [
    "transposed_kegg.to_csv(\"../derived/Kegg_output.csv\")"
   ]
  },
  {
   "cell_type": "code",
   "execution_count": null,
   "id": "eed31eb4",
   "metadata": {},
   "outputs": [],
   "source": []
  }
 ],
 "metadata": {
  "kernelspec": {
   "display_name": "Python 3",
   "language": "python",
   "name": "python3"
  },
  "language_info": {
   "codemirror_mode": {
    "name": "ipython",
    "version": 3
   },
   "file_extension": ".py",
   "mimetype": "text/x-python",
   "name": "python",
   "nbconvert_exporter": "python",
   "pygments_lexer": "ipython3",
   "version": "3.6.13"
  }
 },
 "nbformat": 4,
 "nbformat_minor": 5
}
